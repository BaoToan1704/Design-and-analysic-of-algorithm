{
 "cells": [
  {
   "cell_type": "markdown",
   "metadata": {},
   "source": [
    "Exercise 1"
   ]
  },
  {
   "cell_type": "code",
   "execution_count": 1,
   "metadata": {},
   "outputs": [
    {
     "name": "stdout",
     "output_type": "stream",
     "text": [
      "Sorted array is:\n",
      "1 3 3 4 4 5 5 6 8 "
     ]
    }
   ],
   "source": [
    "def insertionSortRecursive(arr,n):\n",
    "   # base case\n",
    "   if n<=1:\n",
    "      return\n",
    "   # Sort\n",
    "   insertionSortRecursive(arr,n-1)\n",
    "   last = arr[n-1]\n",
    "   j = n-2\n",
    "   # move ahead\n",
    "   while (j>=0 and arr[j]>last):\n",
    "      arr[j+1] = arr[j]\n",
    "      j = j-1\n",
    "   arr[j+1]=last\n",
    "   \n",
    "# main\n",
    "arr = [1,5,3,4,8,6,3,4,5]\n",
    "n = len(arr)\n",
    "insertionSortRecursive(arr, n)\n",
    "print(\"Sorted array is:\")\n",
    "for i in range(n):\n",
    "   print(arr[i],end=\" \")\n",
    "   \n",
    "# Basic OP: addition in line 6\n",
    "# Worst case: O(n^2)\n",
    "# T(n) = T(n-1) + n\n",
    "# Time complexity: O(n^2)"
   ]
  },
  {
   "cell_type": "markdown",
   "metadata": {},
   "source": [
    "Exercise 2"
   ]
  },
  {
   "cell_type": "code",
   "execution_count": 2,
   "metadata": {},
   "outputs": [
    {
     "name": "stdout",
     "output_type": "stream",
     "text": [
      "1024\n"
     ]
    }
   ],
   "source": [
    "# Recursive Exponentiation by squaring\n",
    "\n",
    "def exp(x, n):\n",
    "    if n == 0:\n",
    "        return 1\n",
    "    elif n == 1:\n",
    "        return x\n",
    "    elif n % 2 == 0:\n",
    "        return exp(x, n // 2) ** 2\n",
    "    else:\n",
    "        return x * exp(x, n // 2) ** 2\n",
    "    \n",
    "print(exp(2, 10))\n",
    "\n",
    "# Basic OP: multiplication in line 10\n",
    "# Worst case: O(n)\n",
    "# T(n) = T(n/2) + 1\n",
    "# Time complexity: O(n)"
   ]
  },
  {
   "cell_type": "markdown",
   "metadata": {},
   "source": [
    "Exercise 3"
   ]
  },
  {
   "cell_type": "code",
   "execution_count": 3,
   "metadata": {},
   "outputs": [
    {
     "name": "stdout",
     "output_type": "stream",
     "text": [
      "8\n"
     ]
    }
   ],
   "source": [
    "# Recursive Euclid’s algorithm for greatest common divisor\n",
    "\n",
    "def gcd(a, b):\n",
    "    if b == 0:\n",
    "        return a\n",
    "    else:\n",
    "        return gcd(b, a % b)\n",
    "\n",
    "print(gcd(24, 16))\n",
    "\n",
    "# Basic OP: modulo in line 7\n",
    "# Worst case: O(n)\n",
    "# T(n) = T(n/2) + 1\n",
    "# Time complexity: O(n)"
   ]
  },
  {
   "cell_type": "markdown",
   "metadata": {},
   "source": [
    "Exercise 4"
   ]
  },
  {
   "cell_type": "code",
   "execution_count": 4,
   "metadata": {},
   "outputs": [
    {
     "name": "stdout",
     "output_type": "stream",
     "text": [
      "1 1\n",
      "2 2\n",
      "4 3\n",
      "8 4\n",
      "9 5\n",
      "5 6\n",
      "3 7\n",
      "6 8\n",
      "7 9\n"
     ]
    }
   ],
   "source": [
    "class Graph:\n",
    "    def __init__(self):\n",
    "        self.vertices = {}\n",
    "        self.edges = {}\n",
    "        self.marked = {}\n",
    "        self.count = 0\n",
    "\n",
    "    def add_vertex(self, vertex):\n",
    "        if vertex not in self.vertices:\n",
    "            self.vertices[vertex] = vertex\n",
    "            self.marked[vertex] = 0\n",
    "\n",
    "    def add_edge(self, vertex1, vertex2):\n",
    "        if vertex1 not in self.vertices:\n",
    "            self.add_vertex(vertex1)\n",
    "        if vertex2 not in self.vertices:\n",
    "            self.add_vertex(vertex2)\n",
    "        if vertex1 not in self.edges:\n",
    "            self.edges[vertex1] = []\n",
    "        if vertex2 not in self.edges:\n",
    "            self.edges[vertex2] = []\n",
    "        self.edges[vertex1].append(vertex2)\n",
    "        self.edges[vertex2].append(vertex1)\n",
    "\n",
    "    def dfs(self, vertex):\n",
    "        self.marked[vertex] = 1\n",
    "        self.count += 1\n",
    "        print(vertex, self.count)\n",
    "        for w in self.edges[vertex]:\n",
    "            if self.marked[w] == 0:\n",
    "                self.dfs(w)\n",
    "\n",
    "    def dfs_traversal(self):\n",
    "        for v in self.vertices:\n",
    "            if self.marked[v] == 0:\n",
    "                self.dfs(v)\n",
    "                \n",
    "# Driver code\n",
    "g = Graph()\n",
    "g.add_edge(1, 2)\n",
    "g.add_edge(1, 3)\n",
    "g.add_edge(2, 4)\n",
    "g.add_edge(2, 5)\n",
    "g.add_edge(3, 6)\n",
    "g.add_edge(3, 7)\n",
    "g.add_edge(4, 8)\n",
    "g.add_edge(4, 9)\n",
    "g.dfs_traversal()"
   ]
  },
  {
   "cell_type": "markdown",
   "metadata": {},
   "source": [
    "Exercise 5"
   ]
  },
  {
   "cell_type": "code",
   "execution_count": 5,
   "metadata": {},
   "outputs": [
    {
     "name": "stdout",
     "output_type": "stream",
     "text": [
      "1 1\n",
      "2 2\n",
      "3 3\n",
      "4 4\n",
      "5 5\n",
      "6 6\n",
      "7 7\n",
      "8 8\n",
      "9 9\n"
     ]
    }
   ],
   "source": [
    "# Breadth first search\n",
    "\n",
    "class Graph:\n",
    "    def __init__(self):\n",
    "        self.vertices = {}\n",
    "        self.edges = {}\n",
    "        self.marked = {}\n",
    "        self.count = 0\n",
    "\n",
    "    def add_vertex(self, vertex):\n",
    "        if vertex not in self.vertices:\n",
    "            self.vertices[vertex] = vertex\n",
    "            self.marked[vertex] = 0\n",
    "\n",
    "    def add_edge(self, vertex1, vertex2):\n",
    "        if vertex1 not in self.vertices:\n",
    "            self.add_vertex(vertex1)\n",
    "        if vertex2 not in self.vertices:\n",
    "            self.add_vertex(vertex2)\n",
    "        if vertex1 not in self.edges:\n",
    "            self.edges[vertex1] = []\n",
    "        if vertex2 not in self.edges:\n",
    "            self.edges[vertex2] = []\n",
    "        self.edges[vertex1].append(vertex2)\n",
    "        self.edges[vertex2].append(vertex1)\n",
    "\n",
    "    def bfs(self, vertex):\n",
    "        queue = []\n",
    "        self.marked[vertex] = 1\n",
    "        self.count += 1\n",
    "        print(vertex, self.count)\n",
    "        queue.append(vertex)\n",
    "        while len(queue) > 0:\n",
    "            v = queue.pop(0)\n",
    "            for w in self.edges[v]:\n",
    "                if self.marked[w] == 0:\n",
    "                    self.marked[w] = 1\n",
    "                    self.count += 1\n",
    "                    print(w, self.count)\n",
    "                    queue.append(w)\n",
    "\n",
    "    def bfs_traversal(self):\n",
    "        for v in self.vertices:\n",
    "            if self.marked[v] == 0:\n",
    "                self.bfs(v)\n",
    "                \n",
    "# Driver code\n",
    "g = Graph()\n",
    "g.add_edge(1, 2)\n",
    "g.add_edge(1, 3)\n",
    "g.add_edge(2, 4)\n",
    "g.add_edge(2, 5)\n",
    "g.add_edge(3, 6)\n",
    "g.add_edge(3, 7)\n",
    "g.add_edge(4, 8)\n",
    "g.add_edge(4, 9)\n",
    "g.bfs_traversal()"
   ]
  },
  {
   "cell_type": "markdown",
   "metadata": {},
   "source": [
    "Exercise 6"
   ]
  },
  {
   "cell_type": "code",
   "execution_count": 6,
   "metadata": {},
   "outputs": [
    {
     "name": "stdout",
     "output_type": "stream",
     "text": [
      "1 1\n",
      "2 2\n",
      "4 3\n",
      "8 4\n",
      "9 5\n",
      "5 6\n",
      "3 7\n",
      "6 8\n",
      "7 9\n",
      "[8, 9, 4, 5, 2, 6, 7, 3, 1]\n",
      "[1, 3, 7, 6, 2, 5, 4, 9, 8]\n"
     ]
    }
   ],
   "source": [
    "# Topological Sorting\n",
    "# 1) Perform DFS traversal, noting the order vertices are popped off the traversal stack\n",
    "# 2) Reverse order solves topological sorting problem\n",
    "\n",
    "class Graph:\n",
    "    def __init__(self):\n",
    "        self.vertices = {}\n",
    "        self.edges = {}\n",
    "        self.marked = {}\n",
    "        self.count = 0\n",
    "        self.stack = []\n",
    "\n",
    "    def add_vertex(self, vertex):\n",
    "        if vertex not in self.vertices:\n",
    "            self.vertices[vertex] = vertex\n",
    "            self.marked[vertex] = 0\n",
    "\n",
    "    def add_edge(self, vertex1, vertex2):\n",
    "        if vertex1 not in self.vertices:\n",
    "            self.add_vertex(vertex1)\n",
    "        if vertex2 not in self.vertices:\n",
    "            self.add_vertex(vertex2)\n",
    "        if vertex1 not in self.edges:\n",
    "            self.edges[vertex1] = []\n",
    "        if vertex2 not in self.edges:\n",
    "            self.edges[vertex2] = []\n",
    "        self.edges[vertex1].append(vertex2)\n",
    "        self.edges[vertex2].append(vertex1)\n",
    "\n",
    "    def dfs(self, vertex):\n",
    "        self.marked[vertex] = 1\n",
    "        self.count += 1\n",
    "        print(vertex, self.count)\n",
    "        for w in self.edges[vertex]:\n",
    "            if self.marked[w] == 0:\n",
    "                self.dfs(w)\n",
    "        self.stack.append(vertex)\n",
    "\n",
    "    def dfs_traversal(self):\n",
    "        for v in self.vertices:\n",
    "            if self.marked[v] == 0:\n",
    "                self.dfs(v)\n",
    "\n",
    "    def topological_sort(self):\n",
    "        self.dfs_traversal()\n",
    "        print(self.stack)\n",
    "        self.stack.reverse()\n",
    "        print(self.stack)\n",
    "\n",
    "# Driver code\n",
    "g = Graph()\n",
    "g.add_edge(1, 2)\n",
    "g.add_edge(1, 3)\n",
    "g.add_edge(2, 4)\n",
    "g.add_edge(2, 5)\n",
    "g.add_edge(3, 6)\n",
    "g.add_edge(3, 7)\n",
    "g.add_edge(4, 8)\n",
    "g.add_edge(4, 9)\n",
    "g.topological_sort()\n",
    "\n",
    "    "
   ]
  },
  {
   "cell_type": "markdown",
   "metadata": {},
   "source": [
    "Exercise 7"
   ]
  },
  {
   "cell_type": "code",
   "execution_count": 7,
   "metadata": {},
   "outputs": [
    {
     "name": "stdout",
     "output_type": "stream",
     "text": [
      "4\n",
      "6\n",
      "8\n"
     ]
    }
   ],
   "source": [
    "def LomutoPartition(A, l, r):\n",
    "    p = A[l]\n",
    "    s = l\n",
    "    for i in range(l+1, r+1):\n",
    "        if A[i] < p:\n",
    "            s += 1\n",
    "            A[i], A[s] = A[s], A[i]\n",
    "    A[l], A[s] = A[s], A[l]\n",
    "    return s\n",
    "\n",
    "def quickselect(A, l, r, k):\n",
    "    if l == r:\n",
    "        return A[l]\n",
    "    s = LomutoPartition(A, l, r)\n",
    "    if k == s:\n",
    "        return A[s]\n",
    "    elif k < s:\n",
    "        return quickselect(A, l, s-1, k)\n",
    "    else:\n",
    "        return quickselect(A, s+1, r, k)\n",
    "\n",
    "# Driver code\n",
    "A = [2, 8, 7, 1, 3, 5, 6, 4]\n",
    "print(quickselect(A, 0, len(A)-1, 3))\n",
    "print(quickselect(A, 0, len(A)-1, 5))\n",
    "print(quickselect(A, 0, len(A)-1, 7))        \n",
    "\n",
    "# Basic OP: addition in line 20\n",
    "# Worst case: O(n^2)\n",
    "# T(n) = T(n/2) + n\n",
    "# Time complexity: O(n^2)"
   ]
  },
  {
   "cell_type": "markdown",
   "metadata": {},
   "source": [
    "Exercise 8"
   ]
  },
  {
   "cell_type": "code",
   "execution_count": 8,
   "metadata": {},
   "outputs": [
    {
     "name": "stdout",
     "output_type": "stream",
     "text": [
      "Smallest value in BST is 1\n",
      "Search for 10: 10\n"
     ]
    }
   ],
   "source": [
    "# Binary search tree algorithm\n",
    "# 1) Searching\n",
    "# 2) Insertion of a new key\n",
    "# 3) Finding the smallest (or the largest) key\n",
    "\n",
    "class Node:\n",
    "    def __init__(self, value):\n",
    "        self.value = value\n",
    "        self.left = None\n",
    "        self.right = None\n",
    "\n",
    "def search(root, key):\n",
    "    if root is None or root.value == key:\n",
    "        return root\n",
    "    if root.value < key:\n",
    "        return search(root.right, key)\n",
    "    return search(root.left, key)\n",
    "\n",
    "def insert(root, key):\n",
    "    if root is None:\n",
    "        return Node(key)\n",
    "    if root.value == key:\n",
    "        return root\n",
    "    if root.value < key:\n",
    "        root.right = insert(root.right, key)\n",
    "    else:\n",
    "        root.left = insert(root.left, key)\n",
    "    return root\n",
    "\n",
    "def findSmallest(root):\n",
    "    if root is None:\n",
    "        return None\n",
    "    if root.left is None:\n",
    "        return root\n",
    "    return findSmallest(root.left)\n",
    "\n",
    "# Driver code\n",
    "root = None\n",
    "root = insert(root, 8)\n",
    "root = insert(root, 3)\n",
    "root = insert(root, 10)\n",
    "root = insert(root, 1)\n",
    "root = insert(root, 6)\n",
    "\n",
    "\n",
    "print(\"Smallest value in BST is\", findSmallest(root).value)\n",
    "print(\"Search for 10:\", search(root, 10).value)\n",
    "\n"
   ]
  }
 ],
 "metadata": {
  "kernelspec": {
   "display_name": "Python 3.9.7 64-bit",
   "language": "python",
   "name": "python3"
  },
  "language_info": {
   "codemirror_mode": {
    "name": "ipython",
    "version": 3
   },
   "file_extension": ".py",
   "mimetype": "text/x-python",
   "name": "python",
   "nbconvert_exporter": "python",
   "pygments_lexer": "ipython3",
   "version": "3.9.7"
  },
  "orig_nbformat": 4,
  "vscode": {
   "interpreter": {
    "hash": "14958d3aee5f1cad06795f787e54b96185c25fb40dfec723a5be941f3a531b8c"
   }
  }
 },
 "nbformat": 4,
 "nbformat_minor": 2
}
