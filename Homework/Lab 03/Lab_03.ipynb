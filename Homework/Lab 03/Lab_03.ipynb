{
 "cells": [
  {
   "cell_type": "markdown",
   "metadata": {},
   "source": [
    "Exercise 1"
   ]
  },
  {
   "cell_type": "code",
   "execution_count": null,
   "metadata": {},
   "outputs": [],
   "source": [
    "# Brute force algorithm\n",
    "def Exponential_power(a,n):\n",
    "    if n==0:\n",
    "        return 1\n",
    "    else:\n",
    "        return a*Exponential_power(a,n-1)\n",
    "    \n",
    "if __name__ == \"__main__\":\n",
    "    print(Exponential_power(2,3))\n",
    "\n",
    "# Basic OP: multiplication on line 8\n",
    "# Worst case: other cases\n",
    "# Count: T(n) = n\n",
    "# Time complexity: O(n)"
   ]
  },
  {
   "cell_type": "markdown",
   "metadata": {},
   "source": [
    "Exercise 2\n"
   ]
  },
  {
   "cell_type": "code",
   "execution_count": null,
   "metadata": {},
   "outputs": [],
   "source": [
    "\n",
    "def combination(n, k):\n",
    "    if k == 0 or k == n:\n",
    "        return 1\n",
    "    else:\n",
    "        return combination(n-1, k-1) + combination(n-1, k)\n",
    "    \n",
    "if __name__ == \"__main__\":\n",
    "    print(combination(6, 2))\n",
    "    \n",
    "# Basic OP: multiplication on line 5\n",
    "# Worst case: other cases\n",
    "# Count: T(n) = n\n",
    "# Time complexity: O(n)"
   ]
  },
  {
   "cell_type": "markdown",
   "metadata": {},
   "source": [
    "Exercise 3"
   ]
  },
  {
   "cell_type": "code",
   "execution_count": null,
   "metadata": {},
   "outputs": [],
   "source": [
    "def multiply(A, B, n):\n",
    "    C = [[0 for i in range(n)] for j in range(n)]\n",
    "    for i in range(n):\n",
    "        for j in range(n):\n",
    "            for k in range(n):\n",
    "                C[i][j] += A[i][k] * B[k][j]\n",
    "    return C\n",
    "\n",
    "if __name__ == \"__main__\":\n",
    "    A = [[1, 2, 3], [4, 5, 6], [7, 8, 9]]\n",
    "    B = [[1, 2, 3], [4, 5, 6], [7, 8, 9]]\n",
    "    print(multiply(A, B, 3))\n",
    "    \n",
    "# Basic OP: addition on line 7\n",
    "# Worst case: other cases\n",
    "# Count: T(n) = n*k\n",
    "# Time complexity: O(n*k)"
   ]
  },
  {
   "cell_type": "markdown",
   "metadata": {},
   "source": [
    "Exercise 4"
   ]
  },
  {
   "cell_type": "code",
   "execution_count": null,
   "metadata": {},
   "outputs": [],
   "source": [
    "class Point:\n",
    "    def __init__(self, x, y):\n",
    "        self.x = x\n",
    "        self.y = y\n",
    "        \n",
    "    def __str__(self):\n",
    "        return \"({}, {})\".format(self.x, self.y)\n",
    "\n",
    "        \n",
    "def distance(p1, p2):\n",
    "    return ((p1.x - p2.x)**2 + (p1.y - p2.y)**2)**0.5\n",
    "\n",
    "def closest_pair(points):\n",
    "    min_dist = float(\"inf\")\n",
    "    for i in range(len(points)):\n",
    "        for j in range(i+1, len(points)):\n",
    "            dist = distance(points[i], points[j])\n",
    "            if dist < min_dist:\n",
    "                min_dist = dist\n",
    "                p1 = points[i]\n",
    "                p2 = points[j]\n",
    "    return p1, p2, min_dist\n",
    "\n",
    "if __name__ == \"__main__\":\n",
    "    points = [Point(1, 1), Point(2, 2), Point(3, 3), Point(4, 4), Point(5, 5)]\n",
    "    p1, p2, min_dist = closest_pair(points)\n",
    "    print(\"The closest pair is {} and {}, with distance {}\".format(p1, p2, min_dist))\n",
    "    \n",
    "\n"
   ]
  },
  {
   "cell_type": "markdown",
   "metadata": {},
   "source": [
    "Exercise 5"
   ]
  },
  {
   "cell_type": "code",
   "execution_count": null,
   "metadata": {},
   "outputs": [],
   "source": [
    "class point:\n",
    "    def __init__(self, x, y):\n",
    "        self.x = x\n",
    "        self.y = y\n",
    "        \n",
    "    def __str__(self):\n",
    "        return \"(\" + str(self.x) + \", \" + str(self.y) + \")\"\n",
    "        \n",
    "def convex_hull(points, n):\n",
    "    if n < 3:\n",
    "        return\n",
    "    # Find the leftmost point\n",
    "    l = 0\n",
    "    for i in range(1, n):\n",
    "        if points[i].x < points[l].x:\n",
    "            l = i\n",
    "    # Start from leftmost point, keep moving counterclockwise until reach the start point again\n",
    "    p = l\n",
    "    q = 0\n",
    "    while True:\n",
    "        # Search for a point 'q' such that orientation(p, i, q) is counterclockwise for all points 'i'\n",
    "        for i in range(n):\n",
    "            if orientation(points[p], points[i], points[q]) == 2:\n",
    "                q = i\n",
    "        # Add q to result as a next point of p in the convex hull\n",
    "        print(points[q])\n",
    "        # Now q is a previous point of p, so set p as q for next iteration, so that q is added to result\n",
    "        p = q\n",
    "        # While we don't come to first point\n",
    "        if p == l:\n",
    "            break\n",
    "        \n",
    "def orientation(p, q, r):\n",
    "    val = (q.y - p.y) * (r.x - q.x) - (q.x - p.x) * (r.y - q.y)\n",
    "    if val == 0:\n",
    "        return 0 # colinear\n",
    "    elif val > 0:\n",
    "        return 1 # clockwise\n",
    "    else:\n",
    "        return 2 # counterclockwise\n",
    "    \n",
    "if __name__ == \"__main__\":\n",
    "    points = [point(0, 3), point(2, 2), point(1, 1), point(2, 1), point(3, 0), point(0, 0), point(3, 3)]\n",
    "    convex_hull(points, len(points))\n",
    "\n",
    "# Basic OP: assignment in line 23\n",
    "# Worst case: when all the points are on the hull \n",
    "# Time complexity: O(n*h) where h is the number of points on the hull"
   ]
  },
  {
   "cell_type": "markdown",
   "metadata": {},
   "source": [
    "Exercise 6"
   ]
  },
  {
   "cell_type": "code",
   "execution_count": null,
   "metadata": {},
   "outputs": [],
   "source": [
    "import itertools \n",
    "\n",
    "class Graph:\n",
    "    def __init__(self, vertices):\n",
    "        self.V = vertices\n",
    "        self.graph = [[0 for column in range(vertices)] for row in range(vertices)]\n",
    "        \n",
    "\n",
    "def BruteForceTSP(graph):\n",
    "    vertex = []\n",
    "    for i in range(graph.V):\n",
    "        if i != 0:\n",
    "            vertex.append(i)\n",
    "    min_path = 999999999\n",
    "    next_permutation = itertools.permutations(vertex)\n",
    "    for i in next_permutation:\n",
    "        current_pathweight = 0\n",
    "        k = i[0]\n",
    "        for j in i:\n",
    "            current_pathweight += graph.graph[k][j]\n",
    "            k = j\n",
    "        current_pathweight += graph.graph[k][0]\n",
    "        min_path = min(min_path, current_pathweight)\n",
    "    return min_path\n",
    "\n",
    "if __name__ == \"__main__\":\n",
    "    v = 4\n",
    "    g = Graph(v)\n",
    "    g.graph = [[0, 10, 15, 20], [10, 0, 35, 25], [15, 35, 0, 30], [20, 25, 30, 0]]\n",
    "    print(BruteForceTSP(g))\n",
    "    \n",
    "# Basic OP: addition on line 29\n",
    "# Worst case: other cases\n",
    "# Count: T(n) = n!\n",
    "# Time complexity: O(n!)\n"
   ]
  },
  {
   "cell_type": "markdown",
   "metadata": {},
   "source": [
    "Execercise 7"
   ]
  },
  {
   "cell_type": "code",
   "execution_count": null,
   "metadata": {},
   "outputs": [],
   "source": [
    "def knapsack(W, V, K):\n",
    "    n = len(W)\n",
    "    max_value = 0\n",
    "    for i in range(2 ** n):\n",
    "        weight = 0\n",
    "        value = 0\n",
    "        for j in range(n):\n",
    "            if (i >> j) & 1:\n",
    "                weight += W[j]\n",
    "                value += V[j]\n",
    "        if weight <= K:\n",
    "            max_value = max(max_value, value)\n",
    "    return max_value\n",
    "\n",
    "if __name__ == \"__main__\":\n",
    "    W = [10, 20, 30]\n",
    "    V = [60, 100, 120]\n",
    "    K = 50\n",
    "    print(knapsack(W, V, K))\n",
    "    \n",
    "\n",
    "# Basic OP: addition on line 9\n",
    "# Worst case: other cases\n",
    "# T(n) = 2^n\n",
    "# Time complexity: O(n^2)"
   ]
  }
 ],
 "metadata": {
  "kernelspec": {
   "display_name": "Python 3.9.7 64-bit",
   "language": "python",
   "name": "python3"
  },
  "language_info": {
   "codemirror_mode": {
    "name": "ipython",
    "version": 3
   },
   "file_extension": ".py",
   "mimetype": "text/x-python",
   "name": "python",
   "nbconvert_exporter": "python",
   "pygments_lexer": "ipython3",
   "version": "3.9.7"
  },
  "orig_nbformat": 4,
  "vscode": {
   "interpreter": {
    "hash": "14958d3aee5f1cad06795f787e54b96185c25fb40dfec723a5be941f3a531b8c"
   }
  }
 },
 "nbformat": 4,
 "nbformat_minor": 2
}
