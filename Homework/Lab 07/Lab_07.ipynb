{
 "cells": [
  {
   "cell_type": "code",
   "execution_count": 1,
   "metadata": {},
   "outputs": [],
   "source": [
    "import time\n",
    "import pylab"
   ]
  },
  {
   "cell_type": "markdown",
   "metadata": {},
   "source": [
    "Compare execution time"
   ]
  },
  {
   "cell_type": "code",
   "execution_count": 33,
   "metadata": {},
   "outputs": [],
   "source": [
    "def measure_time_1(func, N):\n",
    "    runtime = []\n",
    "    for n in N:\n",
    "        start = time.time()\n",
    "        f = func(n)\n",
    "        stop = time.time()\n",
    "        runtime.append(stop-start)\n",
    "    return runtime\n",
    "\n",
    "def measure_time_2(func, N1, N2):\n",
    "    runtime = []\n",
    "    for n in range (len(N1)):\n",
    "        start = time.time()\n",
    "        f = func(N1[n], N2[n])\n",
    "        stop = time.time()\n",
    "        runtime.append(stop-start)\n",
    "    return runtime\n",
    "\n",
    "def measure_time_3(func, N1, N2, N3):\n",
    "    runtime = []\n",
    "    for n in range (len(N1)):\n",
    "        start = time.time()\n",
    "        f = func(N1[n], N2[n], N3[n])\n",
    "        stop = time.time()\n",
    "        runtime.append(stop-start)\n",
    "    return runtime"
   ]
  },
  {
   "cell_type": "markdown",
   "metadata": {},
   "source": [
    "Exercise 1"
   ]
  },
  {
   "cell_type": "code",
   "execution_count": 34,
   "metadata": {},
   "outputs": [
    {
     "name": "stdout",
     "output_type": "stream",
     "text": [
      "10\n"
     ]
    }
   ],
   "source": [
    "def binomial(n, k):\n",
    "    C = [[0] * (k + 1) for _ in range(n + 1)]\n",
    "    for i in range(n + 1):\n",
    "        for j in range(min(i, k) + 1):\n",
    "            if j == 0 or j == i:\n",
    "                C[i][j] = 1\n",
    "            else:\n",
    "                C[i][j] = C[i - 1][j - 1] + C[i - 1][j]\n",
    "    return C[n][k]\n",
    "\n",
    "if __name__ == \"__main__\":\n",
    "    print(binomial(5, 2))\n",
    "    \n",
    "# Basic OP: addition in line 8\n",
    "# Worst case: O(n^2)\n",
    "# T(n)  = T(n-1) + O(n) = O(n^2)\n",
    "# Time complexity: O(n^2)"
   ]
  },
  {
   "cell_type": "code",
   "execution_count": 35,
   "metadata": {},
   "outputs": [
    {
     "data": {
      "image/png": "[encoded data removed]",
      "text/plain": [
       "<Figure size 432x288 with 1 Axes>"
      ]
     },
     "metadata": {
      "needs_background": "light"
     },
     "output_type": "display_data"
    }
   ],
   "source": [
    "N1 = list(range(100))\n",
    "N2 = list(range(100))\n",
    "rtime = measure_time_2(binomial, N1, N2)\n",
    "rtime2 = [t*1.5 for t in rtime]\n",
    "pylab.plot(N1, rtime, N2, rtime2)\n",
    "pylab.legend(['1', '2'])\n",
    "pylab.show()"
   ]
  },
  {
   "cell_type": "markdown",
   "metadata": {},
   "source": [
    "Exercise 2"
   ]
  },
  {
   "cell_type": "code",
   "execution_count": 36,
   "metadata": {},
   "outputs": [
    {
     "name": "stdout",
     "output_type": "stream",
     "text": [
      "40\n"
     ]
    }
   ],
   "source": [
    "def CoinRow(coins):\n",
    "    n = len(coins)\n",
    "    if n == 0:\n",
    "        return 0\n",
    "    elif n == 1:\n",
    "        return coins[0]\n",
    "    elif n == 2:\n",
    "        return max(coins[0], coins[1])\n",
    "    else:\n",
    "        A = [0] * n\n",
    "        A[0] = coins[0]\n",
    "        A[1] = max(coins[0], coins[1])\n",
    "        for i in range(2, n):\n",
    "            A[i] = max(A[i-1], A[i-2] + coins[i])\n",
    "        return A[n-1]\n",
    "\n",
    "\n",
    "if __name__ == \"__main__\":\n",
    "    coins = [5, 22, 26, 10, 4, 8]\n",
    "    print(CoinRow(coins))\n",
    "\n",
    "# Basic OP: addition in line 14\n",
    "# Worst case: O(n)\n",
    "# T(n)  = T(n-1) + T(n-2) = O(n)\n",
    "# Time complexity: O(n)"
   ]
  },
  {
   "cell_type": "code",
   "execution_count": 37,
   "metadata": {},
   "outputs": [],
   "source": [
    "# N = list(range(100))\n",
    "# rtime = measure_time_1(CoinRow, N)\n",
    "# rtime2 = [t*1.5 for t in rtime]\n",
    "# pylab.plot(N, rtime, N, rtime2)\n",
    "# pylab.legend(['1', '2'])\n",
    "# pylab.show()\n",
    "    "
   ]
  },
  {
   "cell_type": "markdown",
   "metadata": {},
   "source": [
    "Exercise 3"
   ]
  },
  {
   "cell_type": "code",
   "execution_count": 38,
   "metadata": {},
   "outputs": [
    {
     "name": "stdout",
     "output_type": "stream",
     "text": [
      "2\n"
     ]
    }
   ],
   "source": [
    "def ChangeMaking(C, n):\n",
    "    F = [0] * (n + 1)\n",
    "    for i in range(1, n + 1):\n",
    "        F[i] = min([F[i - c] for c in C if i - c >= 0]) + 1\n",
    "    return F[n]\n",
    "\n",
    "if __name__ == \"__main__\":\n",
    "    C = [1, 3, 4]\n",
    "    n = 6\n",
    "    print(ChangeMaking(C, n))\n",
    "\n",
    "# Basic OP: comparision in line 4\n",
    "# Worst case: O(n^2)\n",
    "# T(n)  = T(n-1) + O(n) = O(n^2)\n",
    "# Time complexity: O(n^2)"
   ]
  },
  {
   "cell_type": "code",
   "execution_count": 39,
   "metadata": {},
   "outputs": [],
   "source": [
    "# if __name__ == \"__main__\":\n",
    "#     N1 = list(range(100))\n",
    "#     N2 = list(range(100))\n",
    "#     rtime = measure_time_2(ChangeMaking, N1, N2)\n",
    "#     rtime2 = [t*1.5 for t in rtime]\n",
    "#     pylab.plot(N1, rtime, N2, rtime2)\n",
    "#     pylab.legend(['1', '2'])\n",
    "#     pylab.show()"
   ]
  },
  {
   "cell_type": "markdown",
   "metadata": {},
   "source": [
    "Exercise 4"
   ]
  },
  {
   "cell_type": "code",
   "execution_count": 40,
   "metadata": {},
   "outputs": [
    {
     "name": "stdout",
     "output_type": "stream",
     "text": [
      "13\n"
     ]
    }
   ],
   "source": [
    "def knapsack(W, w, v):\n",
    "    F = [[0] * (W + 1) for _ in range(len(w) + 1)]\n",
    "    for i in range(1, len(w) + 1):\n",
    "        for j in range(1, W + 1):\n",
    "            if j - w[i - 1] >= 0:\n",
    "                F[i][j] = max(F[i - 1][j], F[i - 1][j - w[i - 1]] + v[i - 1])\n",
    "            else:\n",
    "                F[i][j] = F[i - 1][j]\n",
    "    return F[-1][-1]\n",
    "\n",
    "if __name__ == \"__main__\":\n",
    "    W = 10\n",
    "    w = [2, 3, 4, 5]\n",
    "    v = [3, 4, 5, 6]\n",
    "    print(knapsack(W, w, v))\n",
    "\n",
    "# Basic OP: comparision in line 6\n",
    "# Worst case: O(nW)\n",
    "# T(n)  = T(n-1) + O(W) = O(nW)\n",
    "# Time complexity: O(nW)"
   ]
  },
  {
   "cell_type": "code",
   "execution_count": 41,
   "metadata": {},
   "outputs": [
    {
     "ename": "TypeError",
     "evalue": "object of type 'int' has no len()",
     "output_type": "error",
     "traceback": [
      "\u001b[1;31m---------------------------------------------------------------------------\u001b[0m",
      "\u001b[1;31mTypeError\u001b[0m                                 Traceback (most recent call last)",
      "\u001b[1;32me:\\Design and analysic of algorithm\\Lab 06\\Lab_07.ipynb Cell 15\u001b[0m in \u001b[0;36m<cell line: 1>\u001b[1;34m()\u001b[0m\n\u001b[0;32m      <a href='vscode-notebook-cell:/e%3A/Design%20and%20analysic%20of%20algorithm/Lab%2006/Lab_07.ipynb#X21sZmlsZQ%3D%3D?line=2'>3</a>\u001b[0m N2 \u001b[39m=\u001b[39m \u001b[39mlist\u001b[39m(\u001b[39mrange\u001b[39m(\u001b[39m100\u001b[39m))\n\u001b[0;32m      <a href='vscode-notebook-cell:/e%3A/Design%20and%20analysic%20of%20algorithm/Lab%2006/Lab_07.ipynb#X21sZmlsZQ%3D%3D?line=3'>4</a>\u001b[0m N3 \u001b[39m=\u001b[39m \u001b[39mlist\u001b[39m(\u001b[39mrange\u001b[39m(\u001b[39m100\u001b[39m))\n\u001b[1;32m----> <a href='vscode-notebook-cell:/e%3A/Design%20and%20analysic%20of%20algorithm/Lab%2006/Lab_07.ipynb#X21sZmlsZQ%3D%3D?line=4'>5</a>\u001b[0m rtime \u001b[39m=\u001b[39m measure_time_3(knapsack, N1, N2, N3)\n\u001b[0;32m      <a href='vscode-notebook-cell:/e%3A/Design%20and%20analysic%20of%20algorithm/Lab%2006/Lab_07.ipynb#X21sZmlsZQ%3D%3D?line=5'>6</a>\u001b[0m rtime2 \u001b[39m=\u001b[39m [t\u001b[39m*\u001b[39m\u001b[39m1.5\u001b[39m \u001b[39mfor\u001b[39;00m t \u001b[39min\u001b[39;00m rtime]\n\u001b[0;32m      <a href='vscode-notebook-cell:/e%3A/Design%20and%20analysic%20of%20algorithm/Lab%2006/Lab_07.ipynb#X21sZmlsZQ%3D%3D?line=6'>7</a>\u001b[0m pylab\u001b[39m.\u001b[39mplot(N1, rtime, N2, rtime2)\n",
      "\u001b[1;32me:\\Design and analysic of algorithm\\Lab 06\\Lab_07.ipynb Cell 15\u001b[0m in \u001b[0;36mmeasure_time_3\u001b[1;34m(func, N1, N2, op)\u001b[0m\n\u001b[0;32m     <a href='vscode-notebook-cell:/e%3A/Design%20and%20analysic%20of%20algorithm/Lab%2006/Lab_07.ipynb#X21sZmlsZQ%3D%3D?line=20'>21</a>\u001b[0m \u001b[39mfor\u001b[39;00m n \u001b[39min\u001b[39;00m \u001b[39mrange\u001b[39m (\u001b[39mlen\u001b[39m(N1)):\n\u001b[0;32m     <a href='vscode-notebook-cell:/e%3A/Design%20and%20analysic%20of%20algorithm/Lab%2006/Lab_07.ipynb#X21sZmlsZQ%3D%3D?line=21'>22</a>\u001b[0m     start \u001b[39m=\u001b[39m time\u001b[39m.\u001b[39mtime()\n\u001b[1;32m---> <a href='vscode-notebook-cell:/e%3A/Design%20and%20analysic%20of%20algorithm/Lab%2006/Lab_07.ipynb#X21sZmlsZQ%3D%3D?line=22'>23</a>\u001b[0m     f \u001b[39m=\u001b[39m func(N1[n], N2[n], op)\n\u001b[0;32m     <a href='vscode-notebook-cell:/e%3A/Design%20and%20analysic%20of%20algorithm/Lab%2006/Lab_07.ipynb#X21sZmlsZQ%3D%3D?line=23'>24</a>\u001b[0m     stop \u001b[39m=\u001b[39m time\u001b[39m.\u001b[39mtime()\n\u001b[0;32m     <a href='vscode-notebook-cell:/e%3A/Design%20and%20analysic%20of%20algorithm/Lab%2006/Lab_07.ipynb#X21sZmlsZQ%3D%3D?line=24'>25</a>\u001b[0m     runtime\u001b[39m.\u001b[39mappend(stop\u001b[39m-\u001b[39mstart)\n",
      "\u001b[1;32me:\\Design and analysic of algorithm\\Lab 06\\Lab_07.ipynb Cell 15\u001b[0m in \u001b[0;36mknapsack\u001b[1;34m(W, w, v)\u001b[0m\n\u001b[0;32m      <a href='vscode-notebook-cell:/e%3A/Design%20and%20analysic%20of%20algorithm/Lab%2006/Lab_07.ipynb#X21sZmlsZQ%3D%3D?line=0'>1</a>\u001b[0m \u001b[39mdef\u001b[39;00m \u001b[39mknapsack\u001b[39m(W, w, v):\n\u001b[1;32m----> <a href='vscode-notebook-cell:/e%3A/Design%20and%20analysic%20of%20algorithm/Lab%2006/Lab_07.ipynb#X21sZmlsZQ%3D%3D?line=1'>2</a>\u001b[0m     F \u001b[39m=\u001b[39m [[\u001b[39m0\u001b[39m] \u001b[39m*\u001b[39m (W \u001b[39m+\u001b[39m \u001b[39m1\u001b[39m) \u001b[39mfor\u001b[39;00m _ \u001b[39min\u001b[39;00m \u001b[39mrange\u001b[39m(\u001b[39mlen\u001b[39;49m(w) \u001b[39m+\u001b[39m \u001b[39m1\u001b[39m)]\n\u001b[0;32m      <a href='vscode-notebook-cell:/e%3A/Design%20and%20analysic%20of%20algorithm/Lab%2006/Lab_07.ipynb#X21sZmlsZQ%3D%3D?line=2'>3</a>\u001b[0m     \u001b[39mfor\u001b[39;00m i \u001b[39min\u001b[39;00m \u001b[39mrange\u001b[39m(\u001b[39m1\u001b[39m, \u001b[39mlen\u001b[39m(w) \u001b[39m+\u001b[39m \u001b[39m1\u001b[39m):\n\u001b[0;32m      <a href='vscode-notebook-cell:/e%3A/Design%20and%20analysic%20of%20algorithm/Lab%2006/Lab_07.ipynb#X21sZmlsZQ%3D%3D?line=3'>4</a>\u001b[0m         \u001b[39mfor\u001b[39;00m j \u001b[39min\u001b[39;00m \u001b[39mrange\u001b[39m(\u001b[39m1\u001b[39m, W \u001b[39m+\u001b[39m \u001b[39m1\u001b[39m):\n",
      "\u001b[1;31mTypeError\u001b[0m: object of type 'int' has no len()"
     ]
    }
   ],
   "source": [
    "# if __name__ == \"__main__\":\n",
    "#     N1 = list(range(100))\n",
    "#     N2 = list(range(100))\n",
    "#     N3 = list(range(100))\n",
    "#     rtime = measure_time_3(knapsack, N1, N2, N3)\n",
    "#     rtime2 = [t*1.5 for t in rtime]\n",
    "#     pylab.plot(N1, rtime, N2, rtime2)\n",
    "#     pylab.legend(['1', '2'])\n",
    "#     pylab.show()\n",
    "\n"
   ]
  }
 ],
 "metadata": {
  "kernelspec": {
   "display_name": "Python 3.9.7 64-bit",
   "language": "python",
   "name": "python3"
  },
  "language_info": {
   "codemirror_mode": {
    "name": "ipython",
    "version": 3
   },
   "file_extension": ".py",
   "mimetype": "text/x-python",
   "name": "python",
   "nbconvert_exporter": "python",
   "pygments_lexer": "ipython3",
   "version": "3.9.7"
  },
  "orig_nbformat": 4,
  "vscode": {
   "interpreter": {
    "hash": "14958d3aee5f1cad06795f787e54b96185c25fb40dfec723a5be941f3a531b8c"
   }
  }
 },
 "nbformat": 4,
 "nbformat_minor": 2
}
