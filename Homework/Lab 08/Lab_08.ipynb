{
 "cells": [
  {
   "cell_type": "code",
   "execution_count": 1,
   "metadata": {},
   "outputs": [],
   "source": [
    "import time\n",
    "import pylab"
   ]
  },
  {
   "cell_type": "code",
   "execution_count": 2,
   "metadata": {},
   "outputs": [],
   "source": [
    "def measure_time(func, N):\n",
    "    runtime = []\n",
    "    for n in N:\n",
    "        start = time.time()\n",
    "        func(n)\n",
    "        end = time.time()\n",
    "        runtime.append(end - start)\n",
    "    return runtime"
   ]
  },
  {
   "cell_type": "markdown",
   "metadata": {},
   "source": [
    "Exercise 1"
   ]
  },
  {
   "cell_type": "code",
   "execution_count": 3,
   "metadata": {},
   "outputs": [
    {
     "name": "stdout",
     "output_type": "stream",
     "text": [
      "BCBA\n",
      "4\n"
     ]
    }
   ],
   "source": [
    "def output_LCS(A, prev, i, j):\n",
    "    if i == 0 or j == 0:\n",
    "        return\n",
    "    if prev[i][j] == 0:\n",
    "        output_LCS(A, prev, i-1, j-1)\n",
    "        print(A[i-1], end='')\n",
    "    elif prev[i][j] == 1:\n",
    "        output_LCS(A, prev, i-1, j)\n",
    "    else:\n",
    "        output_LCS(A, prev, i, j-1)\n",
    "        \n",
    "def LCS_length(A, B):\n",
    "    n = len(A)\n",
    "    m = len(B)\n",
    "    c = [[0 for j in range(m+1)] for i in range(n+1)]\n",
    "    prev = [[0 for j in range(m+1)] for i in range(n+1)]\n",
    "    for i in range(1, n+1):\n",
    "        for j in range(1, m+1):\n",
    "            if A[i-1] == B[j-1]:\n",
    "                c[i][j] = c[i-1][j-1] + 1\n",
    "                prev[i][j] = 0\n",
    "            elif c[i-1][j] >= c[i][j-1]:\n",
    "                c[i][j] = c[i-1][j]\n",
    "                prev[i][j] = 1\n",
    "            else:\n",
    "                c[i][j] = c[i][j-1]\n",
    "                prev[i][j] = 2\n",
    "    output_LCS(A, prev, n, m)\n",
    "    print()\n",
    "    return c[n][m]\n",
    "\n",
    "if __name__ == '__main__':\n",
    "    A = 'ABCBDAB'\n",
    "    B = 'BDCABA'\n",
    "    print(LCS_length(A, B))"
   ]
  },
  {
   "cell_type": "markdown",
   "metadata": {},
   "source": [
    "Exercise 2"
   ]
  },
  {
   "cell_type": "code",
   "execution_count": 4,
   "metadata": {},
   "outputs": [
    {
     "name": "stdout",
     "output_type": "stream",
     "text": [
      "Following matrix transitive closure of the given graph\n",
      "0 1 1 1 \n",
      "0 0 1 1 \n",
      "0 0 0 1 \n",
      "0 0 0 0 \n",
      "\n"
     ]
    }
   ],
   "source": [
    "class Graph:\n",
    "    def __init__(self, vertices):\n",
    "        self.V = vertices\n",
    "        self.graph = [[0 for column in range(vertices)] for row in range(vertices)]\n",
    "\n",
    "    def printSolution(self, reach):\n",
    "        print(\"Following matrix transitive closure of the given graph\")\n",
    "        for i in range(self.V):\n",
    "            for j in range(self.V):\n",
    "                print(\"%d\" % reach[i][j], end=' ')\n",
    "            print(\"\")\n",
    "        print(\"\")\n",
    "        return\n",
    "\n",
    "def Warshall(graph):\n",
    "    reach = [[0 for i in range(graph.V)] for j in range(graph.V)]\n",
    "    for i in range(graph.V):\n",
    "        for j in range(graph.V):\n",
    "            reach[i][j] = graph.graph[i][j]\n",
    "    for k in range(graph.V):\n",
    "        for i in range(graph.V):\n",
    "            for j in range(graph.V):\n",
    "                reach[i][j] = reach[i][j] or (reach[i][k] and reach[k][j])\n",
    "    graph.printSolution(reach)\n",
    "    \n",
    "if __name__ == \"__main__\":\n",
    "    g = Graph(4)\n",
    "    g.graph = [[0, 1, 0, 1],\n",
    "               [0, 0, 1, 0],\n",
    "               [0, 0, 0, 1],\n",
    "               [0, 0, 0, 0]]\n",
    "    Warshall(g)\n",
    "\n"
   ]
  },
  {
   "cell_type": "markdown",
   "metadata": {},
   "source": [
    "Exercise 3 "
   ]
  },
  {
   "cell_type": "code",
   "execution_count": 5,
   "metadata": {},
   "outputs": [
    {
     "name": "stdout",
     "output_type": "stream",
     "text": [
      "Following matrix is the shortest distances between every pair of vertices\n",
      "      0       5       8       9 \n",
      "    999       0       3       4 \n",
      "    999     999       0       1 \n",
      "    999     999     999       0 \n"
     ]
    }
   ],
   "source": [
    "def printSolution(D):\n",
    "    print(\"Following matrix is the shortest distances between every pair of vertices\")\n",
    "    for i in range(len(D)):\n",
    "        for j in range(len(D)):\n",
    "            print(\"%7d\" % D[i][j], end=' ')\n",
    "        print(\"\")\n",
    "    return\n",
    "\n",
    "def Floyd(W):\n",
    "    D = [[0 for i in range(len(W))] for j in range(len(W))]\n",
    "    for i in range(len(W)):\n",
    "        for j in range(len(W)):\n",
    "            D[i][j] = W[i][j]\n",
    "    for k in range(len(W)):\n",
    "        for i in range(len(W)):\n",
    "            for j in range(len(W)):\n",
    "                D[i][j] = min(D[i][j], D[i][k] + D[k][j])\n",
    "    printSolution(D)\n",
    "    return\n",
    "\n",
    "if __name__ == \"__main__\":\n",
    "    W = [[0, 5, 999, 10],\n",
    "         [999, 0, 3, 999],\n",
    "         [999, 999, 0, 1],\n",
    "         [999, 999, 999, 0]]\n",
    "    Floyd(W)\n",
    "\n"
   ]
  }
 ],
 "metadata": {
  "kernelspec": {
   "display_name": "Python 3.9.7 64-bit",
   "language": "python",
   "name": "python3"
  },
  "language_info": {
   "codemirror_mode": {
    "name": "ipython",
    "version": 3
   },
   "file_extension": ".py",
   "mimetype": "text/x-python",
   "name": "python",
   "nbconvert_exporter": "python",
   "pygments_lexer": "ipython3",
   "version": "3.9.7"
  },
  "orig_nbformat": 4,
  "vscode": {
   "interpreter": {
    "hash": "14958d3aee5f1cad06795f787e54b96185c25fb40dfec723a5be941f3a531b8c"
   }
  }
 },
 "nbformat": 4,
 "nbformat_minor": 2
}
