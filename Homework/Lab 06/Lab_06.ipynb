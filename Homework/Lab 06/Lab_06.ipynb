{
 "cells": [
  {
   "cell_type": "markdown",
   "metadata": {},
   "source": [
    "Exercise 1"
   ]
  },
  {
   "cell_type": "code",
   "execution_count": 1,
   "metadata": {},
   "outputs": [
    {
     "name": "stdout",
     "output_type": "stream",
     "text": [
      "[(1, 4), (5, 7), (8, 11), (12, 14)]\n"
     ]
    }
   ],
   "source": [
    "def activity_selection(activities):\n",
    "    activities.sort(key=lambda x: x[1])\n",
    "    selected = [activities[0]]\n",
    "    for i in range(1, len(activities)):\n",
    "        if activities[i][0] >= selected[-1][1]:\n",
    "            selected.append(activities[i])\n",
    "    return selected\n",
    "\n",
    "activities = [(1, 4), (3, 5), (0, 6), (5, 7), (3, 8), (5, 9), (6, 10), (8, 11), (8, 12), (2, 13), (12, 14)]\n",
    "print(activity_selection(activities))\n",
    "\n",
    "# Basic OP: addition in line 6\n",
    "# Worst case: O(n log n) + O(n) = O(n log n)\n",
    "# T(n)  = T(n/2) + O(n) = O(n log n)\n",
    "# Time complexity: O(n log n)"
   ]
  },
  {
   "cell_type": "markdown",
   "metadata": {},
   "source": [
    "Exercise 2"
   ]
  },
  {
   "cell_type": "code",
   "execution_count": 2,
   "metadata": {},
   "outputs": [
    {
     "name": "stdout",
     "output_type": "stream",
     "text": [
      "[(7, 5, 8), (6, 2, 20), (9, 4, 12), (5, 4, 25), (3, 5, 18), (4, 7, 1), (8, 7, 10), None, (1, 9, 15)]\n"
     ]
    }
   ],
   "source": [
    "def job_sequencing(tasks):\n",
    "    # Sort the tasks in decreasing order of their profits\n",
    "    tasks.sort(key=lambda x: x[2], reverse=True)\n",
    "    # Get the maximum deadline\n",
    "    max_deadline = max(tasks, key=lambda x: x[1])[1]\n",
    "    # Create a list of free slots\n",
    "    free_slots = [True] * max_deadline\n",
    "    # Create a list to store the scheduled tasks\n",
    "    scheduled_tasks = [None] * max_deadline\n",
    "    # Iterate through the tasks\n",
    "    for task in tasks:\n",
    "        # Find the latest free slot for the task\n",
    "        for i in range(task[1] - 1, -1, -1):\n",
    "            if free_slots[i]:\n",
    "                # Schedule the task\n",
    "                scheduled_tasks[i] = task\n",
    "                # Mark the slot as occupied\n",
    "                free_slots[i] = False\n",
    "                break\n",
    "    # Return the list of scheduled tasks\n",
    "    return scheduled_tasks\n",
    "\n",
    "if __name__ == \"__main__\":\n",
    "    tasks = [(1, 9, 15), (2, 2, 2), (3, 5, 18), (4, 7, 1), (5, 4, 25), (6, 2, 20), (7, 5, 8), (8, 7, 10), (9, 4, 12), (10, 3, 5)]\n",
    "    print(job_sequencing(tasks))\n",
    "    \n",
    "# Basic OP: Comparision in line 16\n",
    "# Worst case: O(n^2)\n",
    "# T(n)  = T(n-1) + O(n) = O(n^2)\n",
    "# Time complexity: O(n^2)"
   ]
  },
  {
   "cell_type": "markdown",
   "metadata": {},
   "source": [
    "Exercise 3"
   ]
  },
  {
   "cell_type": "code",
   "execution_count": 3,
   "metadata": {},
   "outputs": [
    {
     "name": "stdout",
     "output_type": "stream",
     "text": [
      "Edge \tWeight\n",
      "0 - 1 \t 2\n",
      "1 - 2 \t 3\n",
      "0 - 3 \t 6\n",
      "1 - 4 \t 5\n"
     ]
    }
   ],
   "source": [
    "class Graph:\n",
    "    def __init__(self, vertices, edges):\n",
    "        self.V = vertices\n",
    "        self.E = edges\n",
    "        self.graph = []\n",
    "        self.graph_matrix = [[0 for column in range(vertices)] for row in range(vertices)]\n",
    "        \n",
    "    def add_edge(self, u, v, w):\n",
    "        self.graph.append([u, v, w])\n",
    "        self.graph_matrix[u][v] = w\n",
    "        self.graph_matrix[v][u] = w\n",
    "\n",
    "    def printMST(self, parent):\n",
    "        print(\"Edge \\tWeight\")\n",
    "        for i in range(1, self.V):\n",
    "            print(parent[i], \"-\", i, \"\\t\", self.graph_matrix[i][ parent[i] ])\n",
    "            \n",
    "    def minKey(self, key, mstSet):\n",
    "        min = float('inf')\n",
    "        for v in range(self.V):\n",
    "            if key[v] < min and mstSet[v] == False:\n",
    "                min = key[v]\n",
    "                min_index = v\n",
    "        return min_index\n",
    "    \n",
    "    def primMST(self):\n",
    "        key = [float('inf')] * self.V\n",
    "        parent = [None] * self.V\n",
    "        key[0] = 0\n",
    "        mstSet = [False] * self.V\n",
    "        parent[0] = -1\n",
    "        for cout in range(self.V):\n",
    "            u = self.minKey(key, mstSet)\n",
    "            mstSet[u] = True\n",
    "            for v in range(self.V):\n",
    "                if self.graph_matrix[u][v] > 0 and mstSet[v] == False and key[v] > self.graph_matrix[u][v]:\n",
    "                    key[v] = self.graph_matrix[u][v]\n",
    "                    parent[v] = u\n",
    "        self.printMST(parent)\n",
    "        \n",
    "g = Graph(5, 7)\n",
    "g.add_edge(0, 1, 2)\n",
    "g.add_edge(0, 3, 6)\n",
    "g.add_edge(1, 2, 3)\n",
    "g.add_edge(1, 3, 8)\n",
    "g.add_edge(1, 4, 5)\n",
    "g.add_edge(2, 4, 7)\n",
    "g.add_edge(3, 4, 9)\n",
    "g.primMST()\n",
    "\n",
    "# Basic OP: assignment in line 37\n",
    "# Worst case: O(n^2)\n",
    "# T(n)  = T(n-1) + O(n) = O(n^2)\n",
    "# Time complexity: O(n^2)"
   ]
  },
  {
   "cell_type": "markdown",
   "metadata": {},
   "source": [
    "Exercise 4"
   ]
  },
  {
   "cell_type": "code",
   "execution_count": 4,
   "metadata": {},
   "outputs": [
    {
     "name": "stdout",
     "output_type": "stream",
     "text": [
      "Edges in the constructed MST\n",
      "2 -- 3 == 4\n",
      "0 -- 3 == 5\n",
      "0 -- 1 == 10\n",
      "Minimum Spanning Tree 19\n"
     ]
    }
   ],
   "source": [
    "class Graph:\n",
    "    def __init__(self, vertices):\n",
    "        self.V = vertices\n",
    "        self.graph = []\n",
    "\n",
    "    def add_edge(self, u, v, w):\n",
    "        self.graph.append([u, v, w])\n",
    "\n",
    "    def find(self, parent, i):\n",
    "        if parent[i] == i:\n",
    "            return i\n",
    "        return self.find(parent, parent[i])\n",
    "\n",
    "    def union(self, parent, rank, x, y):\n",
    "        xroot = self.find(parent, x)\n",
    "        yroot = self.find(parent, y)\n",
    "\n",
    "        if rank[xroot] < rank[yroot]:\n",
    "            parent[xroot] = yroot\n",
    "        elif rank[xroot] > rank[yroot]:\n",
    "            parent[yroot] = xroot\n",
    "        else:\n",
    "            parent[yroot] = xroot\n",
    "            rank[xroot] += 1\n",
    "\n",
    "    def kruskal(self):\n",
    "        result = []\n",
    "        i = 0\n",
    "        e = 0\n",
    "        self.graph = sorted(self.graph, key=lambda item: item[2])\n",
    "        parent = []\n",
    "        rank = []\n",
    "        for node in range(self.V):\n",
    "            parent.append(node)\n",
    "            rank.append(0)\n",
    "        while e < self.V - 1:\n",
    "            u, v, w = self.graph[i]\n",
    "            i = i + 1\n",
    "            x = self.find(parent, u)\n",
    "            y = self.find(parent, v)\n",
    "            if x != y:\n",
    "                e = e + 1\n",
    "                result.append([u, v, w])\n",
    "                self.union(parent, rank, x, y)\n",
    "        minimum_cost = 0\n",
    "        print(\"Edges in the constructed MST\")\n",
    "        for u, v, weight in result:\n",
    "            minimum_cost += weight\n",
    "            print(\"%d -- %d == %d\" % (u, v, weight))\n",
    "        print(\"Minimum Spanning Tree\" , minimum_cost)\n",
    "        \n",
    "g = Graph(4)\n",
    "g.add_edge(0, 1, 10)\n",
    "g.add_edge(0, 2, 6)\n",
    "g.add_edge(0, 3, 5)\n",
    "g.add_edge(1, 3, 15)\n",
    "g.add_edge(2, 3, 4)\n",
    "g.kruskal()\n",
    "\n",
    "# Basic OP: addition in line 42\n",
    "# Worst case: O(n^2)\n",
    "# T(n)  = T(n-1) + O(n) = O(n^2)\n",
    "# Time complexity: O(n^2)"
   ]
  }
 ],
 "metadata": {
  "kernelspec": {
   "display_name": "Python 3.9.7 64-bit",
   "language": "python",
   "name": "python3"
  },
  "language_info": {
   "codemirror_mode": {
    "name": "ipython",
    "version": 3
   },
   "file_extension": ".py",
   "mimetype": "text/x-python",
   "name": "python",
   "nbconvert_exporter": "python",
   "pygments_lexer": "ipython3",
   "version": "3.9.7"
  },
  "orig_nbformat": 4,
  "vscode": {
   "interpreter": {
    "hash": "14958d3aee5f1cad06795f787e54b96185c25fb40dfec723a5be941f3a531b8c"
   }
  }
 },
 "nbformat": 4,
 "nbformat_minor": 2
}
